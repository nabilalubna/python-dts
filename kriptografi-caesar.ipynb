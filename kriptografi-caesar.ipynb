{
 "cells": [
  {
   "cell_type": "markdown",
   "metadata": {},
   "source": [
    "# Kriptografi Metode Caesar\n",
    "\n",
    "### Intro 1\n",
    "Metode Caesar merupakan metode yang paling sederhana dalam melakukan enkripsi. Teknik ini hanya melakukan pemetaan suatu karakter huruf (angka dan karakter spesial tidak termasuk) dengan metode pergeseran karakter. Contoh:\n",
    "\n",
    "| huruf | shift 2 | shift 3 | shift 4 | shift -2 |\n",
    "|-------|---------|---------|---------|----------|\n",
    "| a     | c       | d       | e       | y        |\n",
    "| A     | C       | D       | E       | Y        |\n",
    "| c     | e       | f       | g       | a        |\n",
    "| z     | b       | c       | d       | x        |\n",
    "| %     | %       | %       | %       | %        |\n",
    "| _     | _       | _       | _       | _        |\n",
    "| 5     | 5       | 5       | 5       | 5        |\n",
    "\n",
    "Ketentuan:\n",
    "* Pergeseran satu huruf setelah z adalah a.\n",
    "* Jika input karakter merupakan huruf kapital, maka output juga kapital. Begitu juga dengan huruf kecil/non-kapital.\n",
    "* Semua yang bukan huruf tidak berubah, jadi kalau ada suatu angka maka karakter enkripsinya tetap angka tersebut, begitu juga dengan semua karater spesial termasuk spasi.\n",
    "\n",
    "Maka, untuk mendekripsikan (decript) dengan menggeser ke arah sebaliknya."
   ]
  },
  {
   "cell_type": "markdown",
   "metadata": {},
   "source": [
    "**1. Buat fungsi `caesar_encript`, dengan argumen `txt` (string) dan `shift` (integer), yang melakukan peng-ekripsian menggunakan metode Caesar terhadap string `txt`. Keluaran dari fungsi ini berupa string terenkripsi / chiper text.**"
   ]
  },
  {
   "cell_type": "code",
   "execution_count": 1,
   "metadata": {},
   "outputs": [],
   "source": [
    "def caesar_encript(txt,shift):\n",
    "    pass\n",
    "    chiper_text = ''\n",
    "    for i in range (len(txt)):\n",
    "        if txt[i].isalpha():\n",
    "            if txt[i].isupper():\n",
    "                alphabet = chr((ord(txt[i]) + shift-65)%26+65)\n",
    "            elif txt[i].islower:\n",
    "                alphabet = chr((ord(txt[i]) + shift-97)%26+97)\n",
    "        else:\n",
    "            alphabet = txt[i]\n",
    "        chiper_text += alphabet\n",
    "    return (chiper_text)\n",
    "        \n",
    "def caesar_decript(chiper,shift):\n",
    "  return caesar_encript(chiper,-shift)"
   ]
  },
  {
   "cell_type": "markdown",
   "metadata": {},
   "source": [
    "*Sanity check!*"
   ]
  },
  {
   "cell_type": "code",
   "execution_count": 2,
   "metadata": {},
   "outputs": [
    {
     "name": "stdout",
     "output_type": "stream",
     "text": [
      "plain text: Haloz DTS mania, MANTAPSZZZ!\n",
      "chiper text: Lepsd HXW qerme, QERXETWDDD!\n"
     ]
    }
   ],
   "source": [
    "msg = 'Haloz DTS mania, MANTAPSZZZ!'\n",
    "cpr = caesar_encript(msg,4)\n",
    "txt = caesar_decript(cpr,4)\n",
    "\n",
    "print('plain text:',txt)\n",
    "print('chiper text:',cpr)"
   ]
  },
  {
   "cell_type": "markdown",
   "metadata": {},
   "source": [
    "### Intro 2\n",
    "Fungsi shuffle_order akan mengurutkan string `txt` sesuai dengan list `order` parameter. Dimana `len(txt)==len(order)` dan elemen atau item di dalam order memenuhi $x \\in \\{0,..,\\rm{len(txt)-1}\\}$.\n",
    "contoh: \n",
    "`(str) abcde: (list) [0,4,3,2,1]` maka keluarannya adalah `aedcb`. \n",
    "Fungsi ini akan digunakan di soal nomor 3 saat kita bermaksud mengirimkan text terenkripsi secara berkala dengan urutan acak dalam bentuk text-text yang lebih kecil.\n",
    "\n",
    "**2. Kemudian buat fungsi `deshuffle_order`, dengan argument `sftxt` (string) dan `order` (list). Yang akan mengembalikan urutan string kembali seperti semula sebelum di-shuffle. Sedemikian hingga: \n",
    "`deshuffle_order(shuffle_order(txt,order),order) == txt`**"
   ]
  },
  {
   "cell_type": "code",
   "execution_count": 3,
   "metadata": {},
   "outputs": [],
   "source": [
    "def shuffle_order(txt,order):\n",
    "    return ''.join([txt[i] for i in order])\n",
    "\n",
    "def deshuffle_order(sftxt,order):\n",
    "    pass\n",
    "    text = ''\n",
    "    for i in range (len(order)):\n",
    "        text += sftxt[order.index(i)]\n",
    "    return text"
   ]
  },
  {
   "cell_type": "markdown",
   "metadata": {},
   "source": [
    "*Sanity check!*"
   ]
  },
  {
   "cell_type": "code",
   "execution_count": 4,
   "metadata": {},
   "outputs": [
    {
     "name": "stdout",
     "output_type": "stream",
     "text": [
      "cbda\n",
      "abcd\n"
     ]
    }
   ],
   "source": [
    "print(shuffle_order('abcd',[2,1,3,0]))\n",
    "print(deshuffle_order('cbda',[2,1,3,0]))"
   ]
  },
  {
   "cell_type": "markdown",
   "metadata": {},
   "source": [
    "### Intro 3\n",
    "Kita akan mengirimkan text melalui sebuah media komunikasi dengan bentuk paket-paket text yang lebih kecil. \n",
    "Misalkan, media komunikasi tersebut hanya memperbolehkan untuk mengirimkan 4 karakter dalam satu waktu. Sehingga, jika kita memiliki sebuah pesan `halo*DTS`, maka kita perlu memecah pesan tersebut menjadi batch-batch yang terdiri dari 4 karakter, dengan kata lain `halo*DTS` perlu dipecah menjadi dua batch yaitu `halo` dan `*DTS`.\n",
    "\n",
    "Namun, apabila jumlah karakter tidak penuh, contoh: `haloPY` akan menjadi `halo` dana `PY__`, dimana untuk kekurangan karakter diakhir sesuai panjang batch (dalam hal ini 4) ditambkan karakter `_` underscore sejumlah kekurangan tersebut. \n",
    "\n",
    "Untuk memperaman komunikasi, kita bisa `shuffle` urutan karakter-karakter tersebut dengan fungsi di nomor 2.\n",
    "\n",
    "Perhatikan alur pengiriman pesan seperti gambar ilustrasi di bawah ini.\n",
    "\n",
    "![ilustrasi](https://github.com/sykrn/py-dts/blob/master/asets/enkrip.jpg?raw=true)\n",
    "\n",
    "\n",
    "**3\\. Buat fungsi `send_batch` dengan argument `txt` (string), `batch_order` (list), dan `shift` (int). Fungsi ini akan memecah text menjadi bagian-bagian yang lebih kecil sesuai dengan panjang dari `batch_order`, di mana batch_order tersebut merupakan list index untuk men-shuffle setiap batch dengan menggunakan fungsi di nomor 2. Keluaran fungsi ini berupa list batch teks terenkripsi.**"
   ]
  },
  {
   "cell_type": "code",
   "execution_count": 5,
   "metadata": {},
   "outputs": [],
   "source": [
    "# convert txt ke dalam bentuk list teks yang lebih pendek\n",
    "# dan terenkrispi dengan urutan acak setiap batchnya\n",
    "def send_batch(txt,batch_order,shift=3):\n",
    "    pass\n",
    "    msg = caesar_encript(txt,shift)\n",
    "    mod = len(caesar_encript(txt,shift)) % len(batch_order)\n",
    "    if mod != 0:\n",
    "        while mod != len(batch_order):\n",
    "            msg += '_'\n",
    "            mod += 1\n",
    "            \n",
    "    hasil=[]\n",
    "    for i in range(0,len(msg),len(batch_order)):\n",
    "        hasil.append(shuffle_order((msg[i:i+len(batch_order)]),batch_order))\n",
    "        \n",
    "    return hasil\n",
    " \n",
    "# batch_cpr: list keluaran send_batch\n",
    "# fungsi ini akan mengembalikan lagi ke txt semula\n",
    "def receive_batch(batch_cpr,batch_order,shift=3):\n",
    "  batch_txt = [caesar_decript(deshuffle_order(i,batch_order),shift) for i in batch_cpr]\n",
    "  return ''.join(batch_txt).strip('_')"
   ]
  },
  {
   "cell_type": "markdown",
   "metadata": {},
   "source": [
    "*Sanity check!*"
   ]
  },
  {
   "cell_type": "code",
   "execution_count": 6,
   "metadata": {},
   "outputs": [
    {
     "name": "stdout",
     "output_type": "stream",
     "text": [
      "halo DTS mania, mantaaap!!!\n",
      "['pesl', 'XHW ', 'eqr ', ',e m', 'rexq', 'eete', '!!_!']\n"
     ]
    }
   ],
   "source": [
    "msg_cpr = send_batch('halo DTS mania, mantaaap!!!',[2,1,3,0],4)\n",
    "msg_txt = receive_batch(msg_cpr,[2,1,3,0],4)\n",
    "print(msg_txt,msg_cpr,sep='\\n')"
   ]
  }
 ],
 "metadata": {
  "kernelspec": {
   "display_name": "Python 3",
   "language": "python",
   "name": "python3"
  },
  "language_info": {
   "codemirror_mode": {
    "name": "ipython",
    "version": 3
   },
   "file_extension": ".py",
   "mimetype": "text/x-python",
   "name": "python",
   "nbconvert_exporter": "python",
   "pygments_lexer": "ipython3",
   "version": "3.6.4"
  }
 },
 "nbformat": 4,
 "nbformat_minor": 2
}
